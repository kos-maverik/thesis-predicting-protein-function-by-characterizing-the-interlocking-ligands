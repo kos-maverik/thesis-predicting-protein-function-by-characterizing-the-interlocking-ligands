{
 "cells": [
  {
   "cell_type": "code",
   "execution_count": 1,
   "metadata": {},
   "outputs": [],
   "source": [
    "%matplotlib inline\n",
    "import numpy as np\n",
    "import rdkit.Chem as Chem\n",
    "from rdkit.Chem import AllChem\n",
    "import csv\n",
    "import matplotlib.pyplot as plt\n",
    "from sklearn.model_selection import cross_val_predict\n",
    "from sklearn.ensemble import ExtraTreesClassifier\n",
    "from sklearn.metrics import f1_score"
   ]
  },
  {
   "cell_type": "code",
   "execution_count": 2,
   "metadata": {},
   "outputs": [],
   "source": [
    "def smiles_to_fps(smiles, fp_radius, fp_length):\n",
    "    \"\"\"This function converts an array of SMILES to an array of Morgan fingerprints\"\"\"\n",
    "    fps = np.array([smile_to_fp(s, fp_radius, fp_length) for s in smiles])  # get the bit strings\n",
    "    return np.array([list(fp) for fp in fps], dtype=int)  # convert the bit strings to integer arrays\n",
    "\n",
    "\n",
    "def smile_to_fp(s, fp_radius, fp_length):\n",
    "    \"\"\"This function converts SMILES to Morgan fingerprints\"\"\"\n",
    "    mol = Chem.MolFromSmiles(s)  # get molecule object\n",
    "    return (AllChem.GetMorganFingerprintAsBitVect(  # get fingerprint\n",
    "        mol, fp_radius, nBits=fp_length)).ToBitString()  # convert it to bit string for speed\n",
    "\n",
    "\n",
    "def read_csv(filename, input_name, target_name):\n",
    "    \"\"\"This function reads a csv file with an input column and a target column\"\"\"\n",
    "    x = []  # SMILES\n",
    "    y = []  # enzyme class\n",
    "    with open(filename) as file:\n",
    "        reader = csv.DictReader(file)\n",
    "        for row in reader:\n",
    "            x.append(row[input_name])\n",
    "            y.append(int(row[target_name]))\n",
    "    return np.array(x), np.array(y)\n",
    "\n",
    "\n",
    "# read csv file\n",
    "x, y = read_csv('pdb_data_protein_mc.csv', 'smiles', 'class')\n",
    "\n",
    "# convert SMILES to Morgan fingerprints (ECFP4)\n",
    "X = smiles_to_fps(x, 2, 8192)"
   ]
  },
  {
   "cell_type": "code",
   "execution_count": 3,
   "metadata": {},
   "outputs": [],
   "source": [
    "# number of trees\n",
    "estimators = list(range(10, 100, 10)) + list(range(100, 1000, 100)) + list(range(1000, 2001, 200))"
   ]
  },
  {
   "cell_type": "code",
   "execution_count": 4,
   "metadata": {},
   "outputs": [
    {
     "name": "stdout",
     "output_type": "stream",
     "text": [
      "0.670171998611171\n",
      "0.6920857691520932\n",
      "0.697540736702738\n",
      "0.6999567683204434\n",
      "0.7024903997934041\n",
      "0.7022454619475179\n",
      "0.7026141302742512\n",
      "0.7037881806241054\n",
      "0.7042631712930414\n",
      "0.704742282116983\n",
      "0.7061690094440615\n",
      "0.7067436014606282\n",
      "0.7070462851296577\n",
      "0.7068305832730372\n",
      "0.7072568716366777\n",
      "0.7081332026295055\n",
      "0.7080366323266469\n",
      "0.7076389539112765\n",
      "0.707718859208179\n",
      "0.7079768867046122\n",
      "0.708546493024425\n",
      "0.7085615952321677\n",
      "0.7078179260882045\n",
      "0.7083813939020815\n"
     ]
    }
   ],
   "source": [
    "# scores for each case\n",
    "scores_f1 = []\n",
    "for val in estimators:\n",
    "    clf = ExtraTreesClassifier(n_estimators=val, class_weight=\"balanced\", n_jobs=-1, random_state=999)\n",
    "    scores_f1.append(f1_score(y, cross_val_predict(clf, X, y, cv=5, n_jobs=-1), average=\"weighted\"))\n",
    "    print(scores_f1[-1])"
   ]
  },
  {
   "cell_type": "code",
   "execution_count": 5,
   "metadata": {},
   "outputs": [
    {
     "data": {
      "image/png": "[encoded data removed]",
      "text/plain": [
       "<Figure size 432x288 with 1 Axes>"
      ]
     },
     "metadata": {},
     "output_type": "display_data"
    }
   ],
   "source": [
    "# plot the scores against the number of estimators\n",
    "plt.figure(0)\n",
    "plt.plot(estimators, scores_f1, 'b.:')\n",
    "plt.show()"
   ]
  },
  {
   "cell_type": "code",
   "execution_count": 6,
   "metadata": {},
   "outputs": [],
   "source": [
    "# experimenting with max features\n",
    "args = [{'n_estimators':700, 'class_weight':'balanced', 'max_features':'sqrt'},\n",
    "        {'n_estimators':700, 'class_weight':'balanced', 'max_features':'log2'}]"
   ]
  },
  {
   "cell_type": "code",
   "execution_count": 7,
   "metadata": {},
   "outputs": [
    {
     "name": "stdout",
     "output_type": "stream",
     "text": [
      "0.7081332026295055\n",
      "0.7116057476421278\n"
     ]
    }
   ],
   "source": [
    "scores_f1 = []\n",
    "for arg in args:\n",
    "    clf = ExtraTreesClassifier(**arg, n_jobs=-1, random_state=999)\n",
    "    preds = cross_val_predict(clf, X, y, cv=5, n_jobs=-1)\n",
    "    scores_f1.append(f1_score(y, preds, average=\"weighted\"))\n",
    "    print(scores_f1[-1])"
   ]
  },
  {
   "cell_type": "code",
   "execution_count": null,
   "metadata": {},
   "outputs": [],
   "source": []
  }
 ],
 "metadata": {
  "kernelspec": {
   "display_name": "Python 3",
   "language": "python",
   "name": "python3"
  },
  "language_info": {
   "codemirror_mode": {
    "name": "ipython",
    "version": 3
   },
   "file_extension": ".py",
   "mimetype": "text/x-python",
   "name": "python",
   "nbconvert_exporter": "python",
   "pygments_lexer": "ipython3",
   "version": "3.6.4"
  }
 },
 "nbformat": 4,
 "nbformat_minor": 2
}
