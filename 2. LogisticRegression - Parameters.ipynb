{
 "cells": [
  {
   "cell_type": "code",
   "execution_count": 1,
   "metadata": {},
   "outputs": [],
   "source": [
    "import numpy as np\n",
    "import rdkit.Chem as Chem\n",
    "from rdkit.Chem import AllChem\n",
    "import csv\n",
    "import matplotlib.pyplot as plt\n",
    "from sklearn.model_selection import cross_val_predict\n",
    "from sklearn.linear_model import LogisticRegression\n",
    "from sklearn.metrics import f1_score"
   ]
  },
  {
   "cell_type": "code",
   "execution_count": 2,
   "metadata": {},
   "outputs": [],
   "source": [
    "def smiles_to_fps(smiles, fp_radius, fp_length):\n",
    "    \"\"\"This function converts an array of SMILES to an array of Morgan fingerprints\"\"\"\n",
    "    fps = np.array([smile_to_fp(s, fp_radius, fp_length) for s in smiles])  # get the bit strings\n",
    "    return np.array([list(fp) for fp in fps], dtype=int)  # convert the bit strings to integer arrays\n",
    "\n",
    "\n",
    "def smile_to_fp(s, fp_radius, fp_length):\n",
    "    \"\"\"This function converts SMILES to Morgan fingerprints\"\"\"\n",
    "    mol = Chem.MolFromSmiles(s)  # get molecule object\n",
    "    return (AllChem.GetMorganFingerprintAsBitVect(  # get fingerprint\n",
    "        mol, fp_radius, nBits=fp_length)).ToBitString()  # convert it to bit string for speed\n",
    "\n",
    "\n",
    "def read_csv(filename, input_name, target_name):\n",
    "    \"\"\"This function reads a csv file with an input column and a target column\"\"\"\n",
    "    x = []  # SMILES\n",
    "    y = []  # enzyme class\n",
    "    with open(filename) as file:\n",
    "        reader = csv.DictReader(file)\n",
    "        for row in reader:\n",
    "            x.append(row[input_name])\n",
    "            y.append(int(row[target_name]))\n",
    "    return np.array(x), np.array(y)\n",
    "\n",
    "\n",
    "# read csv file\n",
    "x, y = read_csv('pdb_data_protein_mc.csv', 'smiles', 'class')\n",
    "\n",
    "# convert SMILES to Morgan fingerprints (ECFP4)\n",
    "X = smiles_to_fps(x, 2, 8192)"
   ]
  },
  {
   "cell_type": "code",
   "execution_count": 3,
   "metadata": {},
   "outputs": [],
   "source": [
    "# class_weight is set to 'balanced' because of imbalanced classes\n",
    "# experimenting with max iterations\n",
    "args = [{'class_weight':'balanced', 'max_iter':100},\n",
    "        {'class_weight':'balanced', 'max_iter':500},\n",
    "        {'class_weight':'balanced', 'max_iter':1000},\n",
    "        {'class_weight':'balanced', 'max_iter':3000},\n",
    "        {'class_weight':'balanced', 'max_iter':5000}]"
   ]
  },
  {
   "cell_type": "code",
   "execution_count": 4,
   "metadata": {},
   "outputs": [
    {
     "name": "stdout",
     "output_type": "stream",
     "text": [
      "0.681259653969988\n",
      "0.681259653969988\n",
      "0.681259653969988\n",
      "0.681259653969988\n",
      "0.681259653969988\n"
     ]
    }
   ],
   "source": [
    "# get results for each case\n",
    "scores_f1 = []\n",
    "for arg in args:\n",
    "    # run classifier\n",
    "    clf = LogisticRegression(**arg, n_jobs=-1, random_state=999)\n",
    "    # get results\n",
    "    preds = cross_val_predict(clf, X, y, cv=5, n_jobs=-1)\n",
    "    scores_f1.append(f1_score(y, preds, average=\"weighted\"))\n",
    "    # print results\n",
    "    print(scores_f1[-1])"
   ]
  },
  {
   "cell_type": "code",
   "execution_count": 5,
   "metadata": {},
   "outputs": [],
   "source": [
    "# experimenting with penalty and solver\n",
    "args = [{'penalty':'l1', 'solver':'liblinear', 'class_weight':'balanced', 'max_iter':500},\n",
    "{'penalty':'l1', 'solver':'saga', 'class_weight':'balanced', 'max_iter':500},\n",
    "{'penalty':'l2', 'solver':'lbfgs', 'class_weight':'balanced', 'max_iter':500},\n",
    "{'penalty':'l2', 'solver':'liblinear', 'class_weight':'balanced', 'max_iter':500},\n",
    "{'penalty':'l2', 'solver':'newton-cg', 'class_weight':'balanced', 'max_iter':500},\n",
    "{'penalty':'l2', 'solver':'sag', 'class_weight':'balanced', 'max_iter':500},\n",
    "{'penalty':'l2', 'solver':'saga', 'class_weight':'balanced', 'max_iter':500}]"
   ]
  },
  {
   "cell_type": "code",
   "execution_count": 6,
   "metadata": {},
   "outputs": [
    {
     "name": "stdout",
     "output_type": "stream",
     "text": [
      "0.664596861637438\n",
      "0.6647251207279857\n",
      "0.6784906371749834\n",
      "0.681259653969988\n",
      "0.6784908194847554\n",
      "0.6783947774953267\n",
      "0.67846805855283\n"
     ]
    }
   ],
   "source": [
    "scores_f1 = []\n",
    "for arg in args:\n",
    "    clf = LogisticRegression(**arg, n_jobs=-1, random_state=999)\n",
    "    preds = cross_val_predict(clf, X, y, cv=5, n_jobs=-1)\n",
    "    scores_f1.append(f1_score(y, preds, average=\"weighted\"))\n",
    "    print(scores_f1[-1])"
   ]
  },
  {
   "cell_type": "code",
   "execution_count": 7,
   "metadata": {},
   "outputs": [],
   "source": [
    "args = [{'penalty':'l2', 'solver':'saga', 'class_weight':'balanced', 'max_iter':500, 'multi_class':'ovr'},\n",
    "{'penalty':'l2', 'solver':'saga', 'class_weight':'balanced', 'max_iter':500, 'multi_class':'multinomial'}]"
   ]
  },
  {
   "cell_type": "code",
   "execution_count": 8,
   "metadata": {},
   "outputs": [
    {
     "name": "stdout",
     "output_type": "stream",
     "text": [
      "0.67846805855283\n",
      "0.6691240801808801\n"
     ]
    }
   ],
   "source": [
    "scores_f1 = []\n",
    "for arg in args:\n",
    "    clf = LogisticRegression(**arg)\n",
    "    preds = cross_val_predict(clf, X, y, cv=5, n_jobs=-1)\n",
    "    scores_f1.append(f1_score(y, preds, average=\"weighted\"))\n",
    "    print(scores_f1[-1])"
   ]
  },
  {
   "cell_type": "code",
   "execution_count": null,
   "metadata": {},
   "outputs": [],
   "source": []
  }
 ],
 "metadata": {
  "kernelspec": {
   "display_name": "Python 3",
   "language": "python",
   "name": "python3"
  },
  "language_info": {
   "codemirror_mode": {
    "name": "ipython",
    "version": 3
   },
   "file_extension": ".py",
   "mimetype": "text/x-python",
   "name": "python",
   "nbconvert_exporter": "python",
   "pygments_lexer": "ipython3",
   "version": "3.6.4"
  }
 },
 "nbformat": 4,
 "nbformat_minor": 2
}
